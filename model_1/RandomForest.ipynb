{
  "cells": [
    {
      "cell_type": "markdown",
      "metadata": {
        "id": "view-in-github",
        "colab_type": "text"
      },
      "source": [
        "<a href=\"https://colab.research.google.com/github/Xiaowei0402/CS229_final_project/blob/main/CS229_FP_training_RandomForestRegressor.ipynb\" target=\"_parent\"><img src=\"https://colab.research.google.com/assets/colab-badge.svg\" alt=\"Open In Colab\"/></a>"
      ]
    },
    {
      "cell_type": "markdown",
      "source": [
        "# helper function for plotting"
      ],
      "metadata": {
        "id": "DVd6b4UYI6mW"
      }
    },
    {
      "cell_type": "code",
      "source": [
        "def scatter_plot_pred(y_test, y_pred, colorbar = False):\n",
        "  sortind = np.argsort(y_test)\n",
        "  plt.scatter(np.asarray(y_test)[sortind],y_pred[sortind],c = np.arange(len(y_test)))\n",
        "  plt.plot(np.linspace(np.min(y_test), np.max(y_test),100),np.linspace(np.min(y_test), np.max(y_test),100),'r--')\n",
        "  plt.xlabel('Observed y')\n",
        "  plt.ylabel('Predicted y')\n",
        "  if colorbar == True:\n",
        "    plt.colorbar()"
      ],
      "metadata": {
        "id": "i0lHLPGeI9ap"
      },
      "execution_count": 1,
      "outputs": []
    },
    {
      "cell_type": "markdown",
      "metadata": {
        "id": "5lg_UGxdkRet"
      },
      "source": [
        "# Import datast"
      ]
    },
    {
      "cell_type": "code",
      "execution_count": 2,
      "metadata": {
        "id": "Z5plA6mpkLF8"
      },
      "outputs": [],
      "source": [
        "import os\n",
        "import numpy as np\n",
        "import matplotlib.pyplot as plt\n",
        "import pandas as pd\n",
        "import copy\n",
        "import sklearn\n",
        "from sklearn.preprocessing import StandardScaler"
      ]
    },
    {
      "cell_type": "code",
      "execution_count": 3,
      "metadata": {
        "colab": {
          "base_uri": "https://localhost:8080/"
        },
        "id": "FHVrIl_qn-0Y",
        "outputId": "834ccdc5-ca7b-4802-e416-f318db1ed658"
      },
      "outputs": [
        {
          "output_type": "stream",
          "name": "stdout",
          "text": [
            "Mounted at /content/drive\n"
          ]
        }
      ],
      "source": [
        "from google.colab import drive\n",
        "drive.mount('/content/drive')"
      ]
    },
    {
      "cell_type": "code",
      "execution_count": 4,
      "metadata": {
        "id": "Ei1prMmeoeqS"
      },
      "outputs": [],
      "source": [
        "os.chdir('/content/drive/MyDrive/CS229_Final_Project')"
      ]
    },
    {
      "cell_type": "code",
      "execution_count": 5,
      "metadata": {
        "id": "SZIFnfOjonoY"
      },
      "outputs": [],
      "source": [
        "# Load information of target strand\n",
        "filename = 'merged_B2_mNG.csv'\n",
        "df_input = pd.read_csv(filename)"
      ]
    },
    {
      "cell_type": "markdown",
      "metadata": {
        "id": "EXwp08t1o9w0"
      },
      "source": [
        "# Split into train and test dataset (60/20/20)\n",
        "\n",
        "Don't need to run this again once we have the split"
      ]
    },
    {
      "cell_type": "code",
      "execution_count": 6,
      "metadata": {
        "id": "18IYY3HaowTa"
      },
      "outputs": [],
      "source": [
        "# permute indicies\n",
        "permuted = np.random.permutation(len(df_input))\n",
        "df_train = df_input.loc[list(permuted[0:round(len(df_input)*0.7)])]\n",
        "df_test = df_input.loc[list(permuted[round(len(df_input)*0.7):])]"
      ]
    },
    {
      "cell_type": "markdown",
      "metadata": {
        "id": "lDERSxW1wFix"
      },
      "source": [
        "# Formatting x into matrix and y into vector"
      ]
    },
    {
      "cell_type": "code",
      "execution_count": 7,
      "metadata": {
        "id": "MZkddsk6wLaa"
      },
      "outputs": [],
      "source": [
        "def format_input(df, intercept = False, dropcolumns = ['Unnamed: 0','Unnamed: 0.1', 'comp_seq_ind','A_pos','y','delta_y']):\n",
        "  # for x, drop irrelevant columns, and y\n",
        "  df_x = df.drop(columns=dropcolumns)\n",
        "  x = df_x.to_numpy()\n",
        "\n",
        "  y = list(df['y'])\n",
        "\n",
        "  return x,y"
      ]
    },
    {
      "cell_type": "markdown",
      "metadata": {
        "id": "gfwL-D8Xn9Fd"
      },
      "source": [
        "## getting x-matirx and y, igoring distance to 5 and distance to 3:\n"
      ]
    },
    {
      "cell_type": "code",
      "execution_count": 8,
      "metadata": {
        "id": "fs577Z2toDL8"
      },
      "outputs": [],
      "source": [
        "x_train, y_train = format_input(df_train)\n",
        "x_test, y_test = format_input(df_test)"
      ]
    },
    {
      "cell_type": "code",
      "source": [
        "# normalize input data to unit variance\n",
        "scaler = StandardScaler()\n",
        "scaler.fit(x_train)\n",
        "X_train = scaler.transform(x_train)\n",
        "\n",
        "scaler = StandardScaler()\n",
        "scaler.fit(x_test)\n",
        "X_test = scaler.transform(x_test)"
      ],
      "metadata": {
        "id": "Eu4oGe3rJl3t"
      },
      "execution_count": 9,
      "outputs": []
    },
    {
      "cell_type": "markdown",
      "metadata": {
        "id": "ExWCf-81FMYd"
      },
      "source": [
        "# Training: Random Forest Regressor\n",
        "\n",
        "Random forest gives 92% training accuracy"
      ]
    },
    {
      "cell_type": "code",
      "execution_count": null,
      "metadata": {
        "id": "p_FWcGrJFQa5"
      },
      "outputs": [],
      "source": [
        "from sklearn.ensemble import RandomForestRegressor\n",
        "from sklearn.model_selection import GridSearchCV\n",
        "\n",
        "# use grid search to find the best parameters\n",
        "forest = RandomForestRegressor(n_estimators=50, criterion=\"squared_error\", random_state = 229)\n",
        "\n",
        "# set up our search grid\n",
        "param_grid = {\"min_samples_leaf\":    [3,5],\n",
        "              \"min_samples_split\": [3,5],\n",
        "              \"max_depth\": [5,8,10,12,15]}\n",
        "\n",
        "# try out every combination of the above values\n",
        "search = GridSearchCV(forest, param_grid, cv=5).fit(X_train, y_train)"
      ]
    },
    {
      "cell_type": "code",
      "source": [
        "pd.DataFrame(search.cv_results_)"
      ],
      "metadata": {
        "colab": {
          "base_uri": "https://localhost:8080/",
          "height": 1000
        },
        "id": "45Sa78AcISna",
        "outputId": "d8395ee0-4131-44f7-d3f6-8ee3098f21cd"
      },
      "execution_count": null,
      "outputs": [
        {
          "output_type": "execute_result",
          "data": {
            "text/plain": [
              "    mean_fit_time  std_fit_time  mean_score_time  std_score_time  \\\n",
              "0        2.770856      0.435547         0.031699        0.005428   \n",
              "1        2.594774      0.421087         0.031914        0.004827   \n",
              "2        2.464267      0.295791         0.031018        0.005065   \n",
              "3        3.349147      1.822001         0.032703        0.005789   \n",
              "4        6.097989      2.578668         0.052645        0.011546   \n",
              "5        4.845824      1.936446         0.045947        0.006411   \n",
              "6        5.605626      1.011377         0.047950        0.010032   \n",
              "7        5.524754      1.164430         0.084988        0.056012   \n",
              "8        6.442139      1.464127         0.080172        0.034825   \n",
              "9        4.588246      0.503902         0.054296        0.005555   \n",
              "10       4.917732      0.791069         0.057043        0.006544   \n",
              "11       4.736774      0.634505         0.054608        0.005181   \n",
              "12       5.827147      1.267681         0.066936        0.001808   \n",
              "13       5.329109      0.739892         0.071679        0.007729   \n",
              "14       5.561990      0.829005         0.068396        0.007376   \n",
              "15       5.638036      0.754470         0.071282        0.008088   \n",
              "16       6.560278      0.852338         0.090513        0.006122   \n",
              "17       6.554173      0.845029         0.091593        0.007803   \n",
              "18       6.364751      0.811799         0.090412        0.008322   \n",
              "19       6.227756      0.731997         0.089882        0.009030   \n",
              "\n",
              "   param_max_depth param_min_samples_leaf param_min_samples_split  \\\n",
              "0                5                      3                       3   \n",
              "1                5                      3                       5   \n",
              "2                5                      5                       3   \n",
              "3                5                      5                       5   \n",
              "4                8                      3                       3   \n",
              "5                8                      3                       5   \n",
              "6                8                      5                       3   \n",
              "7                8                      5                       5   \n",
              "8               10                      3                       3   \n",
              "9               10                      3                       5   \n",
              "10              10                      5                       3   \n",
              "11              10                      5                       5   \n",
              "12              12                      3                       3   \n",
              "13              12                      3                       5   \n",
              "14              12                      5                       3   \n",
              "15              12                      5                       5   \n",
              "16              15                      3                       3   \n",
              "17              15                      3                       5   \n",
              "18              15                      5                       3   \n",
              "19              15                      5                       5   \n",
              "\n",
              "                                               params  split0_test_score  \\\n",
              "0   {'max_depth': 5, 'min_samples_leaf': 3, 'min_s...           0.618329   \n",
              "1   {'max_depth': 5, 'min_samples_leaf': 3, 'min_s...           0.618329   \n",
              "2   {'max_depth': 5, 'min_samples_leaf': 5, 'min_s...           0.618315   \n",
              "3   {'max_depth': 5, 'min_samples_leaf': 5, 'min_s...           0.618315   \n",
              "4   {'max_depth': 8, 'min_samples_leaf': 3, 'min_s...           0.783159   \n",
              "5   {'max_depth': 8, 'min_samples_leaf': 3, 'min_s...           0.783159   \n",
              "6   {'max_depth': 8, 'min_samples_leaf': 5, 'min_s...           0.782093   \n",
              "7   {'max_depth': 8, 'min_samples_leaf': 5, 'min_s...           0.782093   \n",
              "8   {'max_depth': 10, 'min_samples_leaf': 3, 'min_...           0.846124   \n",
              "9   {'max_depth': 10, 'min_samples_leaf': 3, 'min_...           0.846124   \n",
              "10  {'max_depth': 10, 'min_samples_leaf': 5, 'min_...           0.843573   \n",
              "11  {'max_depth': 10, 'min_samples_leaf': 5, 'min_...           0.843573   \n",
              "12  {'max_depth': 12, 'min_samples_leaf': 3, 'min_...           0.890866   \n",
              "13  {'max_depth': 12, 'min_samples_leaf': 3, 'min_...           0.890866   \n",
              "14  {'max_depth': 12, 'min_samples_leaf': 5, 'min_...           0.886022   \n",
              "15  {'max_depth': 12, 'min_samples_leaf': 5, 'min_...           0.886022   \n",
              "16  {'max_depth': 15, 'min_samples_leaf': 3, 'min_...           0.920304   \n",
              "17  {'max_depth': 15, 'min_samples_leaf': 3, 'min_...           0.920304   \n",
              "18  {'max_depth': 15, 'min_samples_leaf': 5, 'min_...           0.910881   \n",
              "19  {'max_depth': 15, 'min_samples_leaf': 5, 'min_...           0.910881   \n",
              "\n",
              "    split1_test_score  split2_test_score  split3_test_score  \\\n",
              "0            0.637253           0.647626           0.622024   \n",
              "1            0.637253           0.647626           0.622024   \n",
              "2            0.637249           0.647641           0.622132   \n",
              "3            0.637249           0.647641           0.622132   \n",
              "4            0.785974           0.809061           0.785919   \n",
              "5            0.785974           0.809061           0.785919   \n",
              "6            0.784658           0.807934           0.785137   \n",
              "7            0.784658           0.807934           0.785137   \n",
              "8            0.848103           0.869776           0.853426   \n",
              "9            0.848103           0.869776           0.853426   \n",
              "10           0.847964           0.867854           0.850654   \n",
              "11           0.847964           0.867854           0.850654   \n",
              "12           0.888957           0.905287           0.897652   \n",
              "13           0.888957           0.905287           0.897652   \n",
              "14           0.885642           0.900779           0.892445   \n",
              "15           0.885642           0.900779           0.892445   \n",
              "16           0.918301           0.931647           0.924395   \n",
              "17           0.918301           0.931647           0.924395   \n",
              "18           0.910332           0.922485           0.915158   \n",
              "19           0.910332           0.922485           0.915158   \n",
              "\n",
              "    split4_test_score  mean_test_score  std_test_score  rank_test_score  \n",
              "0            0.638786         0.632804        0.010964               17  \n",
              "1            0.638786         0.632804        0.010964               17  \n",
              "2            0.638071         0.632682        0.010876               19  \n",
              "3            0.638071         0.632682        0.010876               19  \n",
              "4            0.792967         0.791416        0.009400               13  \n",
              "5            0.792967         0.791416        0.009400               13  \n",
              "6            0.791873         0.790339        0.009373               15  \n",
              "7            0.791873         0.790339        0.009373               15  \n",
              "8            0.858550         0.855196        0.008480                9  \n",
              "9            0.858550         0.855196        0.008480                9  \n",
              "10           0.856383         0.853286        0.008383               11  \n",
              "11           0.856383         0.853286        0.008383               11  \n",
              "12           0.897106         0.895974        0.005765                5  \n",
              "13           0.897106         0.895974        0.005765                5  \n",
              "14           0.890933         0.891164        0.005497                7  \n",
              "15           0.890933         0.891164        0.005497                7  \n",
              "16           0.923773         0.923684        0.004568                1  \n",
              "17           0.923773         0.923684        0.004568                1  \n",
              "18           0.913626         0.914496        0.004369                3  \n",
              "19           0.913626         0.914496        0.004369                3  "
            ],
            "text/html": [
              "\n",
              "  <div id=\"df-5cf3942b-207e-49f7-b023-078a383b1872\" class=\"colab-df-container\">\n",
              "    <div>\n",
              "<style scoped>\n",
              "    .dataframe tbody tr th:only-of-type {\n",
              "        vertical-align: middle;\n",
              "    }\n",
              "\n",
              "    .dataframe tbody tr th {\n",
              "        vertical-align: top;\n",
              "    }\n",
              "\n",
              "    .dataframe thead th {\n",
              "        text-align: right;\n",
              "    }\n",
              "</style>\n",
              "<table border=\"1\" class=\"dataframe\">\n",
              "  <thead>\n",
              "    <tr style=\"text-align: right;\">\n",
              "      <th></th>\n",
              "      <th>mean_fit_time</th>\n",
              "      <th>std_fit_time</th>\n",
              "      <th>mean_score_time</th>\n",
              "      <th>std_score_time</th>\n",
              "      <th>param_max_depth</th>\n",
              "      <th>param_min_samples_leaf</th>\n",
              "      <th>param_min_samples_split</th>\n",
              "      <th>params</th>\n",
              "      <th>split0_test_score</th>\n",
              "      <th>split1_test_score</th>\n",
              "      <th>split2_test_score</th>\n",
              "      <th>split3_test_score</th>\n",
              "      <th>split4_test_score</th>\n",
              "      <th>mean_test_score</th>\n",
              "      <th>std_test_score</th>\n",
              "      <th>rank_test_score</th>\n",
              "    </tr>\n",
              "  </thead>\n",
              "  <tbody>\n",
              "    <tr>\n",
              "      <th>0</th>\n",
              "      <td>2.770856</td>\n",
              "      <td>0.435547</td>\n",
              "      <td>0.031699</td>\n",
              "      <td>0.005428</td>\n",
              "      <td>5</td>\n",
              "      <td>3</td>\n",
              "      <td>3</td>\n",
              "      <td>{'max_depth': 5, 'min_samples_leaf': 3, 'min_s...</td>\n",
              "      <td>0.618329</td>\n",
              "      <td>0.637253</td>\n",
              "      <td>0.647626</td>\n",
              "      <td>0.622024</td>\n",
              "      <td>0.638786</td>\n",
              "      <td>0.632804</td>\n",
              "      <td>0.010964</td>\n",
              "      <td>17</td>\n",
              "    </tr>\n",
              "    <tr>\n",
              "      <th>1</th>\n",
              "      <td>2.594774</td>\n",
              "      <td>0.421087</td>\n",
              "      <td>0.031914</td>\n",
              "      <td>0.004827</td>\n",
              "      <td>5</td>\n",
              "      <td>3</td>\n",
              "      <td>5</td>\n",
              "      <td>{'max_depth': 5, 'min_samples_leaf': 3, 'min_s...</td>\n",
              "      <td>0.618329</td>\n",
              "      <td>0.637253</td>\n",
              "      <td>0.647626</td>\n",
              "      <td>0.622024</td>\n",
              "      <td>0.638786</td>\n",
              "      <td>0.632804</td>\n",
              "      <td>0.010964</td>\n",
              "      <td>17</td>\n",
              "    </tr>\n",
              "    <tr>\n",
              "      <th>2</th>\n",
              "      <td>2.464267</td>\n",
              "      <td>0.295791</td>\n",
              "      <td>0.031018</td>\n",
              "      <td>0.005065</td>\n",
              "      <td>5</td>\n",
              "      <td>5</td>\n",
              "      <td>3</td>\n",
              "      <td>{'max_depth': 5, 'min_samples_leaf': 5, 'min_s...</td>\n",
              "      <td>0.618315</td>\n",
              "      <td>0.637249</td>\n",
              "      <td>0.647641</td>\n",
              "      <td>0.622132</td>\n",
              "      <td>0.638071</td>\n",
              "      <td>0.632682</td>\n",
              "      <td>0.010876</td>\n",
              "      <td>19</td>\n",
              "    </tr>\n",
              "    <tr>\n",
              "      <th>3</th>\n",
              "      <td>3.349147</td>\n",
              "      <td>1.822001</td>\n",
              "      <td>0.032703</td>\n",
              "      <td>0.005789</td>\n",
              "      <td>5</td>\n",
              "      <td>5</td>\n",
              "      <td>5</td>\n",
              "      <td>{'max_depth': 5, 'min_samples_leaf': 5, 'min_s...</td>\n",
              "      <td>0.618315</td>\n",
              "      <td>0.637249</td>\n",
              "      <td>0.647641</td>\n",
              "      <td>0.622132</td>\n",
              "      <td>0.638071</td>\n",
              "      <td>0.632682</td>\n",
              "      <td>0.010876</td>\n",
              "      <td>19</td>\n",
              "    </tr>\n",
              "    <tr>\n",
              "      <th>4</th>\n",
              "      <td>6.097989</td>\n",
              "      <td>2.578668</td>\n",
              "      <td>0.052645</td>\n",
              "      <td>0.011546</td>\n",
              "      <td>8</td>\n",
              "      <td>3</td>\n",
              "      <td>3</td>\n",
              "      <td>{'max_depth': 8, 'min_samples_leaf': 3, 'min_s...</td>\n",
              "      <td>0.783159</td>\n",
              "      <td>0.785974</td>\n",
              "      <td>0.809061</td>\n",
              "      <td>0.785919</td>\n",
              "      <td>0.792967</td>\n",
              "      <td>0.791416</td>\n",
              "      <td>0.009400</td>\n",
              "      <td>13</td>\n",
              "    </tr>\n",
              "    <tr>\n",
              "      <th>5</th>\n",
              "      <td>4.845824</td>\n",
              "      <td>1.936446</td>\n",
              "      <td>0.045947</td>\n",
              "      <td>0.006411</td>\n",
              "      <td>8</td>\n",
              "      <td>3</td>\n",
              "      <td>5</td>\n",
              "      <td>{'max_depth': 8, 'min_samples_leaf': 3, 'min_s...</td>\n",
              "      <td>0.783159</td>\n",
              "      <td>0.785974</td>\n",
              "      <td>0.809061</td>\n",
              "      <td>0.785919</td>\n",
              "      <td>0.792967</td>\n",
              "      <td>0.791416</td>\n",
              "      <td>0.009400</td>\n",
              "      <td>13</td>\n",
              "    </tr>\n",
              "    <tr>\n",
              "      <th>6</th>\n",
              "      <td>5.605626</td>\n",
              "      <td>1.011377</td>\n",
              "      <td>0.047950</td>\n",
              "      <td>0.010032</td>\n",
              "      <td>8</td>\n",
              "      <td>5</td>\n",
              "      <td>3</td>\n",
              "      <td>{'max_depth': 8, 'min_samples_leaf': 5, 'min_s...</td>\n",
              "      <td>0.782093</td>\n",
              "      <td>0.784658</td>\n",
              "      <td>0.807934</td>\n",
              "      <td>0.785137</td>\n",
              "      <td>0.791873</td>\n",
              "      <td>0.790339</td>\n",
              "      <td>0.009373</td>\n",
              "      <td>15</td>\n",
              "    </tr>\n",
              "    <tr>\n",
              "      <th>7</th>\n",
              "      <td>5.524754</td>\n",
              "      <td>1.164430</td>\n",
              "      <td>0.084988</td>\n",
              "      <td>0.056012</td>\n",
              "      <td>8</td>\n",
              "      <td>5</td>\n",
              "      <td>5</td>\n",
              "      <td>{'max_depth': 8, 'min_samples_leaf': 5, 'min_s...</td>\n",
              "      <td>0.782093</td>\n",
              "      <td>0.784658</td>\n",
              "      <td>0.807934</td>\n",
              "      <td>0.785137</td>\n",
              "      <td>0.791873</td>\n",
              "      <td>0.790339</td>\n",
              "      <td>0.009373</td>\n",
              "      <td>15</td>\n",
              "    </tr>\n",
              "    <tr>\n",
              "      <th>8</th>\n",
              "      <td>6.442139</td>\n",
              "      <td>1.464127</td>\n",
              "      <td>0.080172</td>\n",
              "      <td>0.034825</td>\n",
              "      <td>10</td>\n",
              "      <td>3</td>\n",
              "      <td>3</td>\n",
              "      <td>{'max_depth': 10, 'min_samples_leaf': 3, 'min_...</td>\n",
              "      <td>0.846124</td>\n",
              "      <td>0.848103</td>\n",
              "      <td>0.869776</td>\n",
              "      <td>0.853426</td>\n",
              "      <td>0.858550</td>\n",
              "      <td>0.855196</td>\n",
              "      <td>0.008480</td>\n",
              "      <td>9</td>\n",
              "    </tr>\n",
              "    <tr>\n",
              "      <th>9</th>\n",
              "      <td>4.588246</td>\n",
              "      <td>0.503902</td>\n",
              "      <td>0.054296</td>\n",
              "      <td>0.005555</td>\n",
              "      <td>10</td>\n",
              "      <td>3</td>\n",
              "      <td>5</td>\n",
              "      <td>{'max_depth': 10, 'min_samples_leaf': 3, 'min_...</td>\n",
              "      <td>0.846124</td>\n",
              "      <td>0.848103</td>\n",
              "      <td>0.869776</td>\n",
              "      <td>0.853426</td>\n",
              "      <td>0.858550</td>\n",
              "      <td>0.855196</td>\n",
              "      <td>0.008480</td>\n",
              "      <td>9</td>\n",
              "    </tr>\n",
              "    <tr>\n",
              "      <th>10</th>\n",
              "      <td>4.917732</td>\n",
              "      <td>0.791069</td>\n",
              "      <td>0.057043</td>\n",
              "      <td>0.006544</td>\n",
              "      <td>10</td>\n",
              "      <td>5</td>\n",
              "      <td>3</td>\n",
              "      <td>{'max_depth': 10, 'min_samples_leaf': 5, 'min_...</td>\n",
              "      <td>0.843573</td>\n",
              "      <td>0.847964</td>\n",
              "      <td>0.867854</td>\n",
              "      <td>0.850654</td>\n",
              "      <td>0.856383</td>\n",
              "      <td>0.853286</td>\n",
              "      <td>0.008383</td>\n",
              "      <td>11</td>\n",
              "    </tr>\n",
              "    <tr>\n",
              "      <th>11</th>\n",
              "      <td>4.736774</td>\n",
              "      <td>0.634505</td>\n",
              "      <td>0.054608</td>\n",
              "      <td>0.005181</td>\n",
              "      <td>10</td>\n",
              "      <td>5</td>\n",
              "      <td>5</td>\n",
              "      <td>{'max_depth': 10, 'min_samples_leaf': 5, 'min_...</td>\n",
              "      <td>0.843573</td>\n",
              "      <td>0.847964</td>\n",
              "      <td>0.867854</td>\n",
              "      <td>0.850654</td>\n",
              "      <td>0.856383</td>\n",
              "      <td>0.853286</td>\n",
              "      <td>0.008383</td>\n",
              "      <td>11</td>\n",
              "    </tr>\n",
              "    <tr>\n",
              "      <th>12</th>\n",
              "      <td>5.827147</td>\n",
              "      <td>1.267681</td>\n",
              "      <td>0.066936</td>\n",
              "      <td>0.001808</td>\n",
              "      <td>12</td>\n",
              "      <td>3</td>\n",
              "      <td>3</td>\n",
              "      <td>{'max_depth': 12, 'min_samples_leaf': 3, 'min_...</td>\n",
              "      <td>0.890866</td>\n",
              "      <td>0.888957</td>\n",
              "      <td>0.905287</td>\n",
              "      <td>0.897652</td>\n",
              "      <td>0.897106</td>\n",
              "      <td>0.895974</td>\n",
              "      <td>0.005765</td>\n",
              "      <td>5</td>\n",
              "    </tr>\n",
              "    <tr>\n",
              "      <th>13</th>\n",
              "      <td>5.329109</td>\n",
              "      <td>0.739892</td>\n",
              "      <td>0.071679</td>\n",
              "      <td>0.007729</td>\n",
              "      <td>12</td>\n",
              "      <td>3</td>\n",
              "      <td>5</td>\n",
              "      <td>{'max_depth': 12, 'min_samples_leaf': 3, 'min_...</td>\n",
              "      <td>0.890866</td>\n",
              "      <td>0.888957</td>\n",
              "      <td>0.905287</td>\n",
              "      <td>0.897652</td>\n",
              "      <td>0.897106</td>\n",
              "      <td>0.895974</td>\n",
              "      <td>0.005765</td>\n",
              "      <td>5</td>\n",
              "    </tr>\n",
              "    <tr>\n",
              "      <th>14</th>\n",
              "      <td>5.561990</td>\n",
              "      <td>0.829005</td>\n",
              "      <td>0.068396</td>\n",
              "      <td>0.007376</td>\n",
              "      <td>12</td>\n",
              "      <td>5</td>\n",
              "      <td>3</td>\n",
              "      <td>{'max_depth': 12, 'min_samples_leaf': 5, 'min_...</td>\n",
              "      <td>0.886022</td>\n",
              "      <td>0.885642</td>\n",
              "      <td>0.900779</td>\n",
              "      <td>0.892445</td>\n",
              "      <td>0.890933</td>\n",
              "      <td>0.891164</td>\n",
              "      <td>0.005497</td>\n",
              "      <td>7</td>\n",
              "    </tr>\n",
              "    <tr>\n",
              "      <th>15</th>\n",
              "      <td>5.638036</td>\n",
              "      <td>0.754470</td>\n",
              "      <td>0.071282</td>\n",
              "      <td>0.008088</td>\n",
              "      <td>12</td>\n",
              "      <td>5</td>\n",
              "      <td>5</td>\n",
              "      <td>{'max_depth': 12, 'min_samples_leaf': 5, 'min_...</td>\n",
              "      <td>0.886022</td>\n",
              "      <td>0.885642</td>\n",
              "      <td>0.900779</td>\n",
              "      <td>0.892445</td>\n",
              "      <td>0.890933</td>\n",
              "      <td>0.891164</td>\n",
              "      <td>0.005497</td>\n",
              "      <td>7</td>\n",
              "    </tr>\n",
              "    <tr>\n",
              "      <th>16</th>\n",
              "      <td>6.560278</td>\n",
              "      <td>0.852338</td>\n",
              "      <td>0.090513</td>\n",
              "      <td>0.006122</td>\n",
              "      <td>15</td>\n",
              "      <td>3</td>\n",
              "      <td>3</td>\n",
              "      <td>{'max_depth': 15, 'min_samples_leaf': 3, 'min_...</td>\n",
              "      <td>0.920304</td>\n",
              "      <td>0.918301</td>\n",
              "      <td>0.931647</td>\n",
              "      <td>0.924395</td>\n",
              "      <td>0.923773</td>\n",
              "      <td>0.923684</td>\n",
              "      <td>0.004568</td>\n",
              "      <td>1</td>\n",
              "    </tr>\n",
              "    <tr>\n",
              "      <th>17</th>\n",
              "      <td>6.554173</td>\n",
              "      <td>0.845029</td>\n",
              "      <td>0.091593</td>\n",
              "      <td>0.007803</td>\n",
              "      <td>15</td>\n",
              "      <td>3</td>\n",
              "      <td>5</td>\n",
              "      <td>{'max_depth': 15, 'min_samples_leaf': 3, 'min_...</td>\n",
              "      <td>0.920304</td>\n",
              "      <td>0.918301</td>\n",
              "      <td>0.931647</td>\n",
              "      <td>0.924395</td>\n",
              "      <td>0.923773</td>\n",
              "      <td>0.923684</td>\n",
              "      <td>0.004568</td>\n",
              "      <td>1</td>\n",
              "    </tr>\n",
              "    <tr>\n",
              "      <th>18</th>\n",
              "      <td>6.364751</td>\n",
              "      <td>0.811799</td>\n",
              "      <td>0.090412</td>\n",
              "      <td>0.008322</td>\n",
              "      <td>15</td>\n",
              "      <td>5</td>\n",
              "      <td>3</td>\n",
              "      <td>{'max_depth': 15, 'min_samples_leaf': 5, 'min_...</td>\n",
              "      <td>0.910881</td>\n",
              "      <td>0.910332</td>\n",
              "      <td>0.922485</td>\n",
              "      <td>0.915158</td>\n",
              "      <td>0.913626</td>\n",
              "      <td>0.914496</td>\n",
              "      <td>0.004369</td>\n",
              "      <td>3</td>\n",
              "    </tr>\n",
              "    <tr>\n",
              "      <th>19</th>\n",
              "      <td>6.227756</td>\n",
              "      <td>0.731997</td>\n",
              "      <td>0.089882</td>\n",
              "      <td>0.009030</td>\n",
              "      <td>15</td>\n",
              "      <td>5</td>\n",
              "      <td>5</td>\n",
              "      <td>{'max_depth': 15, 'min_samples_leaf': 5, 'min_...</td>\n",
              "      <td>0.910881</td>\n",
              "      <td>0.910332</td>\n",
              "      <td>0.922485</td>\n",
              "      <td>0.915158</td>\n",
              "      <td>0.913626</td>\n",
              "      <td>0.914496</td>\n",
              "      <td>0.004369</td>\n",
              "      <td>3</td>\n",
              "    </tr>\n",
              "  </tbody>\n",
              "</table>\n",
              "</div>\n",
              "    <div class=\"colab-df-buttons\">\n",
              "\n",
              "  <div class=\"colab-df-container\">\n",
              "    <button class=\"colab-df-convert\" onclick=\"convertToInteractive('df-5cf3942b-207e-49f7-b023-078a383b1872')\"\n",
              "            title=\"Convert this dataframe to an interactive table.\"\n",
              "            style=\"display:none;\">\n",
              "\n",
              "  <svg xmlns=\"http://www.w3.org/2000/svg\" height=\"24px\" viewBox=\"0 -960 960 960\">\n",
              "    <path d=\"M120-120v-720h720v720H120Zm60-500h600v-160H180v160Zm220 220h160v-160H400v160Zm0 220h160v-160H400v160ZM180-400h160v-160H180v160Zm440 0h160v-160H620v160ZM180-180h160v-160H180v160Zm440 0h160v-160H620v160Z\"/>\n",
              "  </svg>\n",
              "    </button>\n",
              "\n",
              "  <style>\n",
              "    .colab-df-container {\n",
              "      display:flex;\n",
              "      gap: 12px;\n",
              "    }\n",
              "\n",
              "    .colab-df-convert {\n",
              "      background-color: #E8F0FE;\n",
              "      border: none;\n",
              "      border-radius: 50%;\n",
              "      cursor: pointer;\n",
              "      display: none;\n",
              "      fill: #1967D2;\n",
              "      height: 32px;\n",
              "      padding: 0 0 0 0;\n",
              "      width: 32px;\n",
              "    }\n",
              "\n",
              "    .colab-df-convert:hover {\n",
              "      background-color: #E2EBFA;\n",
              "      box-shadow: 0px 1px 2px rgba(60, 64, 67, 0.3), 0px 1px 3px 1px rgba(60, 64, 67, 0.15);\n",
              "      fill: #174EA6;\n",
              "    }\n",
              "\n",
              "    .colab-df-buttons div {\n",
              "      margin-bottom: 4px;\n",
              "    }\n",
              "\n",
              "    [theme=dark] .colab-df-convert {\n",
              "      background-color: #3B4455;\n",
              "      fill: #D2E3FC;\n",
              "    }\n",
              "\n",
              "    [theme=dark] .colab-df-convert:hover {\n",
              "      background-color: #434B5C;\n",
              "      box-shadow: 0px 1px 3px 1px rgba(0, 0, 0, 0.15);\n",
              "      filter: drop-shadow(0px 1px 2px rgba(0, 0, 0, 0.3));\n",
              "      fill: #FFFFFF;\n",
              "    }\n",
              "  </style>\n",
              "\n",
              "    <script>\n",
              "      const buttonEl =\n",
              "        document.querySelector('#df-5cf3942b-207e-49f7-b023-078a383b1872 button.colab-df-convert');\n",
              "      buttonEl.style.display =\n",
              "        google.colab.kernel.accessAllowed ? 'block' : 'none';\n",
              "\n",
              "      async function convertToInteractive(key) {\n",
              "        const element = document.querySelector('#df-5cf3942b-207e-49f7-b023-078a383b1872');\n",
              "        const dataTable =\n",
              "          await google.colab.kernel.invokeFunction('convertToInteractive',\n",
              "                                                    [key], {});\n",
              "        if (!dataTable) return;\n",
              "\n",
              "        const docLinkHtml = 'Like what you see? Visit the ' +\n",
              "          '<a target=\"_blank\" href=https://colab.research.google.com/notebooks/data_table.ipynb>data table notebook</a>'\n",
              "          + ' to learn more about interactive tables.';\n",
              "        element.innerHTML = '';\n",
              "        dataTable['output_type'] = 'display_data';\n",
              "        await google.colab.output.renderOutput(dataTable, element);\n",
              "        const docLink = document.createElement('div');\n",
              "        docLink.innerHTML = docLinkHtml;\n",
              "        element.appendChild(docLink);\n",
              "      }\n",
              "    </script>\n",
              "  </div>\n",
              "\n",
              "\n",
              "<div id=\"df-1aa8c104-1f5d-455f-9b46-8644722de5c5\">\n",
              "  <button class=\"colab-df-quickchart\" onclick=\"quickchart('df-1aa8c104-1f5d-455f-9b46-8644722de5c5')\"\n",
              "            title=\"Suggest charts\"\n",
              "            style=\"display:none;\">\n",
              "\n",
              "<svg xmlns=\"http://www.w3.org/2000/svg\" height=\"24px\"viewBox=\"0 0 24 24\"\n",
              "     width=\"24px\">\n",
              "    <g>\n",
              "        <path d=\"M19 3H5c-1.1 0-2 .9-2 2v14c0 1.1.9 2 2 2h14c1.1 0 2-.9 2-2V5c0-1.1-.9-2-2-2zM9 17H7v-7h2v7zm4 0h-2V7h2v10zm4 0h-2v-4h2v4z\"/>\n",
              "    </g>\n",
              "</svg>\n",
              "  </button>\n",
              "\n",
              "<style>\n",
              "  .colab-df-quickchart {\n",
              "      --bg-color: #E8F0FE;\n",
              "      --fill-color: #1967D2;\n",
              "      --hover-bg-color: #E2EBFA;\n",
              "      --hover-fill-color: #174EA6;\n",
              "      --disabled-fill-color: #AAA;\n",
              "      --disabled-bg-color: #DDD;\n",
              "  }\n",
              "\n",
              "  [theme=dark] .colab-df-quickchart {\n",
              "      --bg-color: #3B4455;\n",
              "      --fill-color: #D2E3FC;\n",
              "      --hover-bg-color: #434B5C;\n",
              "      --hover-fill-color: #FFFFFF;\n",
              "      --disabled-bg-color: #3B4455;\n",
              "      --disabled-fill-color: #666;\n",
              "  }\n",
              "\n",
              "  .colab-df-quickchart {\n",
              "    background-color: var(--bg-color);\n",
              "    border: none;\n",
              "    border-radius: 50%;\n",
              "    cursor: pointer;\n",
              "    display: none;\n",
              "    fill: var(--fill-color);\n",
              "    height: 32px;\n",
              "    padding: 0;\n",
              "    width: 32px;\n",
              "  }\n",
              "\n",
              "  .colab-df-quickchart:hover {\n",
              "    background-color: var(--hover-bg-color);\n",
              "    box-shadow: 0 1px 2px rgba(60, 64, 67, 0.3), 0 1px 3px 1px rgba(60, 64, 67, 0.15);\n",
              "    fill: var(--button-hover-fill-color);\n",
              "  }\n",
              "\n",
              "  .colab-df-quickchart-complete:disabled,\n",
              "  .colab-df-quickchart-complete:disabled:hover {\n",
              "    background-color: var(--disabled-bg-color);\n",
              "    fill: var(--disabled-fill-color);\n",
              "    box-shadow: none;\n",
              "  }\n",
              "\n",
              "  .colab-df-spinner {\n",
              "    border: 2px solid var(--fill-color);\n",
              "    border-color: transparent;\n",
              "    border-bottom-color: var(--fill-color);\n",
              "    animation:\n",
              "      spin 1s steps(1) infinite;\n",
              "  }\n",
              "\n",
              "  @keyframes spin {\n",
              "    0% {\n",
              "      border-color: transparent;\n",
              "      border-bottom-color: var(--fill-color);\n",
              "      border-left-color: var(--fill-color);\n",
              "    }\n",
              "    20% {\n",
              "      border-color: transparent;\n",
              "      border-left-color: var(--fill-color);\n",
              "      border-top-color: var(--fill-color);\n",
              "    }\n",
              "    30% {\n",
              "      border-color: transparent;\n",
              "      border-left-color: var(--fill-color);\n",
              "      border-top-color: var(--fill-color);\n",
              "      border-right-color: var(--fill-color);\n",
              "    }\n",
              "    40% {\n",
              "      border-color: transparent;\n",
              "      border-right-color: var(--fill-color);\n",
              "      border-top-color: var(--fill-color);\n",
              "    }\n",
              "    60% {\n",
              "      border-color: transparent;\n",
              "      border-right-color: var(--fill-color);\n",
              "    }\n",
              "    80% {\n",
              "      border-color: transparent;\n",
              "      border-right-color: var(--fill-color);\n",
              "      border-bottom-color: var(--fill-color);\n",
              "    }\n",
              "    90% {\n",
              "      border-color: transparent;\n",
              "      border-bottom-color: var(--fill-color);\n",
              "    }\n",
              "  }\n",
              "</style>\n",
              "\n",
              "  <script>\n",
              "    async function quickchart(key) {\n",
              "      const quickchartButtonEl =\n",
              "        document.querySelector('#' + key + ' button');\n",
              "      quickchartButtonEl.disabled = true;  // To prevent multiple clicks.\n",
              "      quickchartButtonEl.classList.add('colab-df-spinner');\n",
              "      try {\n",
              "        const charts = await google.colab.kernel.invokeFunction(\n",
              "            'suggestCharts', [key], {});\n",
              "      } catch (error) {\n",
              "        console.error('Error during call to suggestCharts:', error);\n",
              "      }\n",
              "      quickchartButtonEl.classList.remove('colab-df-spinner');\n",
              "      quickchartButtonEl.classList.add('colab-df-quickchart-complete');\n",
              "    }\n",
              "    (() => {\n",
              "      let quickchartButtonEl =\n",
              "        document.querySelector('#df-1aa8c104-1f5d-455f-9b46-8644722de5c5 button');\n",
              "      quickchartButtonEl.style.display =\n",
              "        google.colab.kernel.accessAllowed ? 'block' : 'none';\n",
              "    })();\n",
              "  </script>\n",
              "</div>\n",
              "    </div>\n",
              "  </div>\n"
            ]
          },
          "metadata": {},
          "execution_count": 16
        }
      ]
    },
    {
      "cell_type": "code",
      "execution_count": 10,
      "metadata": {
        "id": "PqEfll0Zom9Q"
      },
      "outputs": [],
      "source": [
        "from sklearn.ensemble import RandomForestRegressor\n",
        "forest = RandomForestRegressor(n_estimators = 50, min_samples_leaf = 5, min_samples_split = 5,\n",
        "                           max_depth = 15, criterion = \"squared_error\", random_state = 229)"
      ]
    },
    {
      "cell_type": "code",
      "execution_count": 11,
      "metadata": {
        "colab": {
          "base_uri": "https://localhost:8080/"
        },
        "id": "WDKv5X3Zme5e",
        "outputId": "cfb3903f-5c0b-44b2-8c7d-0c39f48f8381"
      },
      "outputs": [
        {
          "output_type": "stream",
          "name": "stdout",
          "text": [
            "0.8933674467091312\n"
          ]
        }
      ],
      "source": [
        "forest.fit(X_train, y_train)\n",
        "\n",
        "# Accuracy score for training set\n",
        "print(forest.score(X_test, y_test))"
      ]
    },
    {
      "cell_type": "code",
      "source": [
        "# Accuracy score for test set\n",
        "print(\"Train set score:\")\n",
        "print(forest.score(X_train, y_train, sample_weight=None))"
      ],
      "metadata": {
        "colab": {
          "base_uri": "https://localhost:8080/"
        },
        "id": "wYb5L5U8I549",
        "outputId": "85448e58-8d2e-442b-ac65-3dd2286d2fe8"
      },
      "execution_count": 12,
      "outputs": [
        {
          "output_type": "stream",
          "name": "stdout",
          "text": [
            "Train set score:\n",
            "0.9448445357383367\n"
          ]
        }
      ]
    },
    {
      "cell_type": "code",
      "execution_count": 13,
      "metadata": {
        "id": "OcDDSqDjFuOY"
      },
      "outputs": [],
      "source": [
        "y_pred = forest.predict(X_test)"
      ]
    },
    {
      "cell_type": "code",
      "execution_count": 14,
      "metadata": {
        "colab": {
          "base_uri": "https://localhost:8080/"
        },
        "id": "K7rkdhaxBg10",
        "outputId": "07eba6fc-6f26-4247-fece-4274081a731b"
      },
      "outputs": [
        {
          "output_type": "stream",
          "name": "stdout",
          "text": [
            "MSE in training set: 9.031053883523061\n"
          ]
        }
      ],
      "source": [
        "from sklearn.metrics import mean_squared_error\n",
        "from sklearn.metrics import accuracy_score\n",
        "MSE_train = mean_squared_error(y_train, forest.predict(X_train))\n",
        "print(\"MSE in training set:\", MSE_train)"
      ]
    },
    {
      "cell_type": "code",
      "execution_count": 15,
      "metadata": {
        "colab": {
          "base_uri": "https://localhost:8080/"
        },
        "id": "vBcWyt-sBhBv",
        "outputId": "20d7104b-10dd-406e-f543-02d9ed7aed19"
      },
      "outputs": [
        {
          "output_type": "stream",
          "name": "stdout",
          "text": [
            "MSE in test set: 17.25255787041327\n"
          ]
        }
      ],
      "source": [
        "MSE_test = mean_squared_error(y_test, forest.predict(X_test))\n",
        "print(\"MSE in test set:\", MSE_test)"
      ]
    },
    {
      "cell_type": "code",
      "execution_count": 16,
      "metadata": {
        "colab": {
          "base_uri": "https://localhost:8080/",
          "height": 449
        },
        "id": "LxZBfKCfF07R",
        "outputId": "712f4e51-ed4b-4e50-a69d-c60d696ba3bb"
      },
      "outputs": [
        {
          "output_type": "display_data",
          "data": {
            "text/plain": [
              "<Figure size 640x480 with 1 Axes>"
            ],
            "image/png": "[encoded data removed]"
          },
          "metadata": {}
        }
      ],
      "source": [
        "scatter_plot_pred(y_test, y_pred)"
      ]
    },
    {
      "cell_type": "markdown",
      "metadata": {
        "id": "ztwWklrqpA0a"
      },
      "source": [
        "## get most indicative features"
      ]
    },
    {
      "cell_type": "code",
      "source": [
        "from sklearn.inspection import permutation_importance\n",
        "\n",
        "fn=['distance_to_5', 'distance_to_3','global_GC_content','local_GC_content_21','bulge-T', 'bulge-TTC','bulge-TTCTT','bulge-TTCTTCT','bulgesite',\n",
        "              'mismatch_site_num', 'mismatch_num','mismatch_site_1','G_penalty_1','mismatch_site_2','G_penalty_2', 'editing_site_mismatch','is_toC','is_toG','is_out_of_ds']\n",
        "\n",
        "def get_indicative_features(forest, X, y, features):\n",
        "  result = permutation_importance(\n",
        "    forest, X, y, n_repeats=10, random_state=229\n",
        "  )\n",
        "\n",
        "  forest_importance = pd.Series(result.importances_mean, index=features)\n",
        "\n",
        "  fig, ax = plt.subplots()\n",
        "  forest_importance.plot.bar(yerr=result.importances_std, ax=ax)\n",
        "  ax.set_title(\"Feature importances using permutation on full model\")\n",
        "  ax.set_ylabel(\"Mean accuracy decrease\")\n",
        "  fig.tight_layout()"
      ],
      "metadata": {
        "id": "kzWsRNb4tnrR"
      },
      "execution_count": null,
      "outputs": []
    },
    {
      "cell_type": "code",
      "execution_count": null,
      "metadata": {
        "colab": {
          "base_uri": "https://localhost:8080/",
          "height": 487
        },
        "id": "5JoEdLPB6lce",
        "outputId": "ad972c90-bceb-4158-e1f7-8024c5506c45"
      },
      "outputs": [
        {
          "output_type": "display_data",
          "data": {
            "text/plain": [
              "<Figure size 640x480 with 1 Axes>"
            ],
            "image/png": "[encoded data removed]"
          },
          "metadata": {}
        }
      ],
      "source": [
        "# use permutation importance to avoid high cardinality feature problem\n",
        "# global analysis\n",
        "\n",
        "\n",
        "get_indicative_features(forest, X_test, y_test, fn)\n"
      ]
    },
    {
      "cell_type": "markdown",
      "metadata": {
        "id": "x49Nqj80H5GS"
      },
      "source": [
        "# Model generalizability"
      ]
    },
    {
      "cell_type": "code",
      "execution_count": null,
      "metadata": {
        "id": "saZ21cCtKqaD"
      },
      "outputs": [],
      "source": [
        "# load B2 and mNG dataset\n",
        "\n",
        "filename_B2 = 'converted_new_GSM4705207_293T_B2_rep1.csv'\n",
        "df_B2 = pd.read_csv(filename_B2)\n",
        "\n",
        "filename_mNG = 'converted_new_GSM4705209_293T_mNG_rep1.csv'\n",
        "df_mNG = pd.read_csv(filename_mNG)"
      ]
    },
    {
      "cell_type": "code",
      "execution_count": null,
      "metadata": {
        "id": "MciCin5lK_0C"
      },
      "outputs": [],
      "source": [
        "# permute indicies\n",
        "permuted = np.random.permutation(len(df_B2))\n",
        "df_train_B2 = df_B2.loc[list(permuted[0:round(len(df_B2)*0.7)])]\n",
        "df_test_B2 = df_B2.loc[list(permuted[round(len(df_B2)*0.7):])]\n",
        "\n",
        "x_train_B2, y_train_B2 = format_input(df_train_B2, dropcolumns = ['Unnamed: 0', 'comp_seq_ind','A_pos','y','delta_y'])\n",
        "x_test_B2, y_test_B2 = format_input(df_test_B2, dropcolumns = ['Unnamed: 0', 'comp_seq_ind','A_pos','y','delta_y'])\n",
        "x_test_mNG, y_test_mNG = format_input(df_mNG, dropcolumns = ['Unnamed: 0', 'comp_seq_ind','A_pos','y','delta_y'])"
      ]
    },
    {
      "cell_type": "code",
      "source": [
        "# normalize input data to unit variance\n",
        "scaler = StandardScaler()\n",
        "scaler.fit(x_train)\n",
        "X_train_B2 = scaler.transform(x_train_B2)\n",
        "X_test_B2 = scaler.transform(x_test_B2)\n",
        "\n",
        "scaler = StandardScaler()\n",
        "scaler.fit(x_test_mNG)\n",
        "X_test_mNG = scaler.transform(x_test_mNG)"
      ],
      "metadata": {
        "id": "10pGWMofaJoN"
      },
      "execution_count": null,
      "outputs": []
    },
    {
      "cell_type": "code",
      "source": [
        "forest = RandomForestRegressor(n_estimators=50, criterion=\"squared_error\", min_samples_leaf = 5,min_samples_split  = 5,max_depth     = 15, random_state = 229)\n",
        "forest.fit(X_train_B2, y_train_B2)"
      ],
      "metadata": {
        "colab": {
          "base_uri": "https://localhost:8080/",
          "height": 92
        },
        "id": "6wPjd4wdOYLC",
        "outputId": "4dcc7b92-ebff-4964-cbba-16290fd5b9ed"
      },
      "execution_count": null,
      "outputs": [
        {
          "output_type": "execute_result",
          "data": {
            "text/plain": [
              "RandomForestRegressor(max_depth=15, min_samples_leaf=5, min_samples_split=5,\n",
              "                      n_estimators=50, random_state=229)"
            ],
            "text/html": [
              "<style>#sk-container-id-5 {color: black;background-color: white;}#sk-container-id-5 pre{padding: 0;}#sk-container-id-5 div.sk-toggleable {background-color: white;}#sk-container-id-5 label.sk-toggleable__label {cursor: pointer;display: block;width: 100%;margin-bottom: 0;padding: 0.3em;box-sizing: border-box;text-align: center;}#sk-container-id-5 label.sk-toggleable__label-arrow:before {content: \"▸\";float: left;margin-right: 0.25em;color: #696969;}#sk-container-id-5 label.sk-toggleable__label-arrow:hover:before {color: black;}#sk-container-id-5 div.sk-estimator:hover label.sk-toggleable__label-arrow:before {color: black;}#sk-container-id-5 div.sk-toggleable__content {max-height: 0;max-width: 0;overflow: hidden;text-align: left;background-color: #f0f8ff;}#sk-container-id-5 div.sk-toggleable__content pre {margin: 0.2em;color: black;border-radius: 0.25em;background-color: #f0f8ff;}#sk-container-id-5 input.sk-toggleable__control:checked~div.sk-toggleable__content {max-height: 200px;max-width: 100%;overflow: auto;}#sk-container-id-5 input.sk-toggleable__control:checked~label.sk-toggleable__label-arrow:before {content: \"▾\";}#sk-container-id-5 div.sk-estimator input.sk-toggleable__control:checked~label.sk-toggleable__label {background-color: #d4ebff;}#sk-container-id-5 div.sk-label input.sk-toggleable__control:checked~label.sk-toggleable__label {background-color: #d4ebff;}#sk-container-id-5 input.sk-hidden--visually {border: 0;clip: rect(1px 1px 1px 1px);clip: rect(1px, 1px, 1px, 1px);height: 1px;margin: -1px;overflow: hidden;padding: 0;position: absolute;width: 1px;}#sk-container-id-5 div.sk-estimator {font-family: monospace;background-color: #f0f8ff;border: 1px dotted black;border-radius: 0.25em;box-sizing: border-box;margin-bottom: 0.5em;}#sk-container-id-5 div.sk-estimator:hover {background-color: #d4ebff;}#sk-container-id-5 div.sk-parallel-item::after {content: \"\";width: 100%;border-bottom: 1px solid gray;flex-grow: 1;}#sk-container-id-5 div.sk-label:hover label.sk-toggleable__label {background-color: #d4ebff;}#sk-container-id-5 div.sk-serial::before {content: \"\";position: absolute;border-left: 1px solid gray;box-sizing: border-box;top: 0;bottom: 0;left: 50%;z-index: 0;}#sk-container-id-5 div.sk-serial {display: flex;flex-direction: column;align-items: center;background-color: white;padding-right: 0.2em;padding-left: 0.2em;position: relative;}#sk-container-id-5 div.sk-item {position: relative;z-index: 1;}#sk-container-id-5 div.sk-parallel {display: flex;align-items: stretch;justify-content: center;background-color: white;position: relative;}#sk-container-id-5 div.sk-item::before, #sk-container-id-5 div.sk-parallel-item::before {content: \"\";position: absolute;border-left: 1px solid gray;box-sizing: border-box;top: 0;bottom: 0;left: 50%;z-index: -1;}#sk-container-id-5 div.sk-parallel-item {display: flex;flex-direction: column;z-index: 1;position: relative;background-color: white;}#sk-container-id-5 div.sk-parallel-item:first-child::after {align-self: flex-end;width: 50%;}#sk-container-id-5 div.sk-parallel-item:last-child::after {align-self: flex-start;width: 50%;}#sk-container-id-5 div.sk-parallel-item:only-child::after {width: 0;}#sk-container-id-5 div.sk-dashed-wrapped {border: 1px dashed gray;margin: 0 0.4em 0.5em 0.4em;box-sizing: border-box;padding-bottom: 0.4em;background-color: white;}#sk-container-id-5 div.sk-label label {font-family: monospace;font-weight: bold;display: inline-block;line-height: 1.2em;}#sk-container-id-5 div.sk-label-container {text-align: center;}#sk-container-id-5 div.sk-container {/* jupyter's `normalize.less` sets `[hidden] { display: none; }` but bootstrap.min.css set `[hidden] { display: none !important; }` so we also need the `!important` here to be able to override the default hidden behavior on the sphinx rendered scikit-learn.org. See: https://github.com/scikit-learn/scikit-learn/issues/21755 */display: inline-block !important;position: relative;}#sk-container-id-5 div.sk-text-repr-fallback {display: none;}</style><div id=\"sk-container-id-5\" class=\"sk-top-container\"><div class=\"sk-text-repr-fallback\"><pre>RandomForestRegressor(max_depth=15, min_samples_leaf=5, min_samples_split=5,\n",
              "                      n_estimators=50, random_state=229)</pre><b>In a Jupyter environment, please rerun this cell to show the HTML representation or trust the notebook. <br />On GitHub, the HTML representation is unable to render, please try loading this page with nbviewer.org.</b></div><div class=\"sk-container\" hidden><div class=\"sk-item\"><div class=\"sk-estimator sk-toggleable\"><input class=\"sk-toggleable__control sk-hidden--visually\" id=\"sk-estimator-id-5\" type=\"checkbox\" checked><label for=\"sk-estimator-id-5\" class=\"sk-toggleable__label sk-toggleable__label-arrow\">RandomForestRegressor</label><div class=\"sk-toggleable__content\"><pre>RandomForestRegressor(max_depth=15, min_samples_leaf=5, min_samples_split=5,\n",
              "                      n_estimators=50, random_state=229)</pre></div></div></div></div></div>"
            ]
          },
          "metadata": {},
          "execution_count": 48
        }
      ]
    },
    {
      "cell_type": "code",
      "execution_count": null,
      "metadata": {
        "id": "M5KpuF4PLEYN"
      },
      "outputs": [],
      "source": [
        "y_pred_B2 = forest.predict(X_test_B2)\n",
        "y_pred_mNG = forest.predict(X_test_mNG)"
      ]
    },
    {
      "cell_type": "code",
      "execution_count": null,
      "metadata": {
        "colab": {
          "base_uri": "https://localhost:8080/"
        },
        "id": "-JSe4iUyLVNJ",
        "outputId": "1e9ebdf2-e1e4-4663-c0c8-f2ad56426b81"
      },
      "outputs": [
        {
          "output_type": "stream",
          "name": "stdout",
          "text": [
            "MSE for train set on B2: 5.283537807070316\n",
            "Accuracy socre for train set on B2 0.9664931411063056\n"
          ]
        }
      ],
      "source": [
        "MSE_train_B2 = mean_squared_error(y_train_B2, forest.predict(X_train_B2))\n",
        "print('MSE for train set on B2:', MSE_train_B2)\n",
        "\n",
        "print('Accuracy socre for train set on B2', forest.score(X_train_B2, y_train_B2))"
      ]
    },
    {
      "cell_type": "code",
      "execution_count": null,
      "metadata": {
        "colab": {
          "base_uri": "https://localhost:8080/"
        },
        "id": "gVC5KIY8Lh84",
        "outputId": "74621c33-17d4-4626-bf49-7fa374ff4337"
      },
      "outputs": [
        {
          "output_type": "stream",
          "name": "stdout",
          "text": [
            "MSE for test set on B2: 7.866574239567628\n",
            "Accuracy socre for test set on B2 0.9497351324066369\n"
          ]
        }
      ],
      "source": [
        "MSE_test_B2 = mean_squared_error(y_test_B2, y_pred_B2)\n",
        "print('MSE for test set on B2:', MSE_test_B2)\n",
        "\n",
        "print('Accuracy socre for test set on B2', forest.score(X_test_B2, y_test_B2))"
      ]
    },
    {
      "cell_type": "code",
      "execution_count": null,
      "metadata": {
        "colab": {
          "base_uri": "https://localhost:8080/"
        },
        "id": "shjJ1ji3Lta7",
        "outputId": "50cbe0b8-12ae-4d0d-f26b-87152fdfca32"
      },
      "outputs": [
        {
          "output_type": "stream",
          "name": "stdout",
          "text": [
            "MSE for test set on mNG: 240.70929675187708\n",
            "Accuracy socre for test set on mNG -0.38959790540620753\n"
          ]
        }
      ],
      "source": [
        "MSE_test_mNG = mean_squared_error(y_test_mNG, y_pred_mNG)\n",
        "print('MSE for test set on mNG:', MSE_test_mNG)\n",
        "print('Accuracy socre for test set on mNG', forest.score(X_test_mNG, y_test_mNG))"
      ]
    }
  ],
  "metadata": {
    "colab": {
      "provenance": [],
      "authorship_tag": "ABX9TyPoWIJOrhjuY4b0dHNcehZx",
      "include_colab_link": true
    },
    "kernelspec": {
      "display_name": "Python 3",
      "name": "python3"
    },
    "language_info": {
      "name": "python"
    }
  },
  "nbformat": 4,
  "nbformat_minor": 0
}
