{
  "nbformat": 4,
  "nbformat_minor": 0,
  "metadata": {
    "colab": {
      "provenance": [],
      "authorship_tag": "ABX9TyMCRetkw47buo7A5CxCbCpi",
      "include_colab_link": true
    },
    "kernelspec": {
      "name": "python3",
      "display_name": "Python 3"
    },
    "language_info": {
      "name": "python"
    }
  },
  "cells": [
    {
      "cell_type": "markdown",
      "metadata": {
        "id": "view-in-github",
        "colab_type": "text"
      },
      "source": [
        "<a href=\"https://colab.research.google.com/github/Xiaowei0402/CS229_final_project/blob/main/merge_B2_mNG.ipynb\" target=\"_parent\"><img src=\"https://colab.research.google.com/assets/colab-badge.svg\" alt=\"Open In Colab\"/></a>"
      ]
    },
    {
      "cell_type": "code",
      "execution_count": null,
      "metadata": {
        "id": "smYfni6GGpqN"
      },
      "outputs": [],
      "source": [
        "import os\n",
        "import numpy as np\n",
        "import matplotlib.pyplot as plt\n",
        "import pandas as pd\n",
        "import copy\n",
        "import sklearn"
      ]
    },
    {
      "cell_type": "code",
      "source": [
        "from google.colab import drive\n",
        "drive.mount('/content/drive')\n",
        "os.chdir('/content/drive/MyDrive/CS229_Final_Project')"
      ],
      "metadata": {
        "colab": {
          "base_uri": "https://localhost:8080/"
        },
        "id": "pXzZZEPsGwLK",
        "outputId": "c1fd1918-df89-486d-87b2-446161d325aa"
      },
      "execution_count": null,
      "outputs": [
        {
          "output_type": "stream",
          "name": "stdout",
          "text": [
            "Mounted at /content/drive\n"
          ]
        }
      ]
    },
    {
      "cell_type": "code",
      "source": [
        "B2_name = 'GSM4705207_293T_B2_rep1'\n",
        "df_B2 = pd.read_csv('converted_new_'+B2_name+'.csv')\n",
        "print(len(df_B2))\n",
        "\n",
        "mNG_name = 'GSM4705209_293T_mNG_rep1'\n",
        "df_mNG = pd.read_csv('converted_new_'+mNG_name+'.csv')\n",
        "print(len(df_mNG))"
      ],
      "metadata": {
        "colab": {
          "base_uri": "https://localhost:8080/"
        },
        "id": "f6VZUBw4Gyyg",
        "outputId": "e6e5e401-7f71-4e7b-a267-8656cf02ef2c"
      },
      "execution_count": null,
      "outputs": [
        {
          "output_type": "stream",
          "name": "stdout",
          "text": [
            "50061\n",
            "24860\n"
          ]
        }
      ]
    },
    {
      "cell_type": "code",
      "source": [
        "# merge the two dfs\n",
        "\n",
        "df_merged = pd.concat([df_B2, df_mNG])\n",
        "\n",
        "len(df_merged)"
      ],
      "metadata": {
        "colab": {
          "base_uri": "https://localhost:8080/"
        },
        "id": "hePG6_7GG-qh",
        "outputId": "9de6d282-fc8b-4124-f416-e0f098024bd0"
      },
      "execution_count": null,
      "outputs": [
        {
          "output_type": "execute_result",
          "data": {
            "text/plain": [
              "74921"
            ]
          },
          "metadata": {},
          "execution_count": 5
        }
      ]
    },
    {
      "cell_type": "code",
      "source": [
        "df_merged.to_csv('merged_B2_mNG.csv')"
      ],
      "metadata": {
        "id": "5-2sQa3VH89x"
      },
      "execution_count": null,
      "outputs": []
    }
  ]
}
