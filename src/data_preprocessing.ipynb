{
 "cells": [
  {
   "cell_type": "markdown",
   "metadata": {
    "id": "iu0AfoBir6bl"
   },
   "source": [
    "# 0. Common functions"
   ]
  },
  {
   "cell_type": "code",
   "execution_count": null,
   "metadata": {
    "id": "XrPzqeeYsAZa"
   },
   "outputs": [],
   "source": [
    "# Get reverse complement sequence\n",
    "def reverse_comp(seq):\n",
    "  seq = seq[::-1]\n",
    "  rc_seq = []\n",
    "  for i in seq:\n",
    "    if i=='A':\n",
    "      rc_seq.append('T')\n",
    "    elif i=='T':\n",
    "      rc_seq.append('A')\n",
    "    elif i=='C':\n",
    "      rc_seq.append('G')\n",
    "    else:\n",
    "      rc_seq.append('C')\n",
    "\n",
    "  return ''.join(rc_seq)"
   ]
  },
  {
   "cell_type": "markdown",
   "metadata": {
    "id": "9_7eaQItby3T"
   },
   "source": [
    "# 1. Import modules & data"
   ]
  },
  {
   "cell_type": "code",
   "execution_count": null,
   "metadata": {
    "id": "2V3xFWpBbo0q"
   },
   "outputs": [],
   "source": [
    "import collections\n",
    "import os\n",
    "import pathlib\n",
    "import re\n",
    "import string\n",
    "import sys\n",
    "import tempfile\n",
    "import time\n",
    "import logging\n",
    "\n",
    "import numpy as np\n",
    "import pandas as pd\n",
    "import json\n",
    "\n",
    "import tensorflow as tf"
   ]
  },
  {
   "cell_type": "markdown",
   "metadata": {
    "id": "lTTRMzoNtXBx"
   },
   "source": [
    "# 2. Identify original RNA sequence & build dictionary"
   ]
  },
  {
   "cell_type": "markdown",
   "metadata": {
    "id": "dj9itMx1p_Zv"
   },
   "source": [
    "Import unmodified RNA descriptions"
   ]
  },
  {
   "cell_type": "code",
   "execution_count": null,
   "metadata": {
    "id": "hdwy0-t6tQ9p"
   },
   "outputs": [],
   "source": [
    "# Import unmodified RNA descriptions as DataFrame\n",
    "rna_library_df = pd.read_csv('1-s2.0-S1097276521002197-mmc3.csv', skiprows = 1)\n",
    "\n",
    "# Fill any empty gaps with empty string, instead of NaN\n",
    "rna_library_df = rna_library_df.fillna('')"
   ]
  },
  {
   "cell_type": "markdown",
   "metadata": {
    "id": "RwsudeiktR_3"
   },
   "source": [
    "Construct RNA sequence from descriptions"
   ]
  },
  {
   "cell_type": "code",
   "execution_count": null,
   "metadata": {
    "id": "7WJy_8OQjlzo"
   },
   "outputs": [],
   "source": [
    "# Identify fixed region\n",
    "fixed_B2 = reverse_comp(rna_library_df.loc[(rna_library_df['desc'] == 'perfect_ds') & (rna_library_df['B2.mNG'] == 'B2'),'seq'].item())\n",
    "fixed_mNG = reverse_comp(rna_library_df.loc[(rna_library_df['desc'] == 'mNG_perfect_ds') & (rna_library_df['B2.mNG'] == 'mNG'),'seq'].item())"
   ]
  },
  {
   "cell_type": "code",
   "execution_count": null,
   "metadata": {
    "id": "Bj0_C9QBPHZr"
   },
   "outputs": [],
   "source": [
    "# Add fixed region\n",
    "rna_library_df.loc[rna_library_df['B2.mNG'] == 'B2','seq_fixed'] = fixed_B2\n",
    "rna_library_df.loc[rna_library_df['B2.mNG'] == 'mNG','seq_fixed'] = fixed_mNG\n",
    "\n",
    "# Add remaining sequences\n",
    "# 5' end:\n",
    "rna_library_df.loc[rna_library_df['B2.mNG'] == 'B2','seq_5'] = '5' + rna_library_df['Buffer'] + rna_library_df['F']\n",
    "\n",
    "rna_library_df.loc[rna_library_df['B2.mNG'] == 'mNG','seq_5'] = '5' + rna_library_df.loc[rna_library_df['B2.mNG'] == 'mNG','Buffer'] \\\n",
    "+ rna_library_df.loc[rna_library_df['B2.mNG'] == 'mNG','F']\n",
    "\n",
    "# 3' end:\n",
    "rna_library_df.loc[rna_library_df['B2.mNG'] == 'B2','seq_3'] = rna_library_df['loop'] + rna_library_df['barcode'] \\\n",
    "+ rna_library_df['BstBI'] + rna_library_df['R'] + rna_library_df['seq'] + rna_library_df['AscI'] + '3'\n",
    "\n",
    "rna_library_df.loc[rna_library_df['B2.mNG'] == 'mNG','seq_3'] = rna_library_df.loc[rna_library_df['B2.mNG'] == 'mNG','loop'] \\\n",
    "+ rna_library_df.loc[rna_library_df['B2.mNG'] == 'mNG','barcode'] + rna_library_df.loc[rna_library_df['B2.mNG'] == 'mNG','BstBI'] \\\n",
    "+ rna_library_df.loc[rna_library_df['B2.mNG'] == 'mNG','R'] + rna_library_df.loc[rna_library_df['B2.mNG'] == 'mNG','seq'] \\\n",
    "+ rna_library_df.loc[rna_library_df['B2.mNG'] == 'mNG','AscI'] + '3'"
   ]
  },
  {
   "cell_type": "markdown",
   "metadata": {
    "id": "goeErdwSsnI7"
   },
   "source": [
    "# 3. Build data set"
   ]
  },
  {
   "cell_type": "markdown",
   "metadata": {
    "id": "iKBtep92Q7_0"
   },
   "source": [
    "Import data set CSV files"
   ]
  },
  {
   "cell_type": "code",
   "execution_count": 7,
   "metadata": {
    "executionInfo": {
     "elapsed": 1632,
     "status": "ok",
     "timestamp": 1702018493923,
     "user": {
      "displayName": "Chang M. Yun",
      "userId": "01289806167682085494"
     },
     "user_tz": 480
    },
    "id": "M_HPs2-BsZGv"
   },
   "outputs": [],
   "source": [
    "# Import modified RNA descriptions as DataFrame: For HEK293T (Interferon-alpha stimulated)\n",
    "exper_rna_df_B21 = pd.read_csv('GSM4705211_293T_B2_IFN_rep1.csv')\n",
    "exper_rna_df_B22 = pd.read_csv('GSM4705212_293T_B2_IFN_rep2.csv')\n",
    "exper_rna_df_mNG1 = pd.read_csv('GSM4705213_293T_mNG_IFN_rep1.csv')\n",
    "exper_rna_df_mNG2 = pd.read_csv('GSM4705214_293T_mNG_IFN_rep2.csv')"
   ]
  },
  {
   "cell_type": "code",
   "execution_count": 8,
   "metadata": {
    "executionInfo": {
     "elapsed": 233,
     "status": "ok",
     "timestamp": 1702018496090,
     "user": {
      "displayName": "Chang M. Yun",
      "userId": "01289806167682085494"
     },
     "user_tz": 480
    },
    "id": "0-YjdOYKxz6N"
   },
   "outputs": [],
   "source": [
    "# Combine all four data sets into one\n",
    "exper_rna_df = pd.concat([exper_rna_df_B21,exper_rna_df_B22,exper_rna_df_mNG1, exper_rna_df_mNG2])"
   ]
  },
  {
   "cell_type": "code",
   "execution_count": 9,
   "metadata": {
    "executionInfo": {
     "elapsed": 175,
     "status": "ok",
     "timestamp": 1702018498255,
     "user": {
      "displayName": "Chang M. Yun",
      "userId": "01289806167682085494"
     },
     "user_tz": 480
    },
    "id": "pcsOTh-q9ffB"
   },
   "outputs": [],
   "source": [
    "# Rename column 'BC' into 'barcode', to match rna_library_df\n",
    "exper_rna_df = exper_rna_df.rename(columns={'BC': 'barcode'})\n",
    "\n",
    "# Use rna_library_df to match modified RNA sequence\n",
    "exper_rna_df = pd.merge(exper_rna_df, rna_library_df[['barcode','seq_5', 'seq_fixed','seq_3']], on='barcode')"
   ]
  },
  {
   "cell_type": "markdown",
   "metadata": {
    "id": "ehZRVqU8RxIm"
   },
   "source": [
    "### Input sequence:"
   ]
  },
  {
   "cell_type": "code",
   "execution_count": 10,
   "metadata": {
    "executionInfo": {
     "elapsed": 208,
     "status": "ok",
     "timestamp": 1702018499558,
     "user": {
      "displayName": "Chang M. Yun",
      "userId": "01289806167682085494"
     },
     "user_tz": 480
    },
    "id": "Jp8nRRghRw5m"
   },
   "outputs": [],
   "source": [
    "# Combine for unmodified RNA sequence:\n",
    "exper_rna_df['in_rna_seq'] = exper_rna_df['seq_5'] + exper_rna_df['seq_fixed'] + exper_rna_df['seq_3']"
   ]
  },
  {
   "cell_type": "markdown",
   "metadata": {
    "id": "Tasmahd_XnnI"
   },
   "source": [
    "### Output sequence:"
   ]
  },
  {
   "cell_type": "markdown",
   "metadata": {
    "id": "gJiYAcDVJVAd"
   },
   "source": [
    "Edit adenosine to inosine, based probability threshold"
   ]
  },
  {
   "cell_type": "code",
   "execution_count": 11,
   "metadata": {
    "executionInfo": {
     "elapsed": 3,
     "status": "ok",
     "timestamp": 1702018500935,
     "user": {
      "displayName": "Chang M. Yun",
      "userId": "01289806167682085494"
     },
     "user_tz": 480
    },
    "id": "9wNS4ngeyys0"
   },
   "outputs": [],
   "source": [
    "# Set probabity threshold to assume A to I editing\n",
    "PROB_THRESHOLD = 30 #%"
   ]
  },
  {
   "cell_type": "code",
   "execution_count": 12,
   "metadata": {
    "executionInfo": {
     "elapsed": 232,
     "status": "ok",
     "timestamp": 1702018503924,
     "user": {
      "displayName": "Chang M. Yun",
      "userId": "01289806167682085494"
     },
     "user_tz": 480
    },
    "id": "ZmRNbCPaFqR9"
   },
   "outputs": [],
   "source": [
    "# Identify adenosine positions\n",
    "aden_pos_B2 = [index for index, char in enumerate(fixed_B2) if char == 'A']\n",
    "aden_pos_mNG = [index for index, char in enumerate(fixed_mNG) if char == 'A']"
   ]
  },
  {
   "cell_type": "code",
   "execution_count": 13,
   "metadata": {
    "executionInfo": {
     "elapsed": 157,
     "status": "ok",
     "timestamp": 1702018505711,
     "user": {
      "displayName": "Chang M. Yun",
      "userId": "01289806167682085494"
     },
     "user_tz": 480
    },
    "id": "EG2f-dRgzUf6"
   },
   "outputs": [],
   "source": [
    "# Define a function that updates adenosine to inosine if larger than threshold\n",
    "def adenosine_to_inosine(row):\n",
    "  for i, pos in enumerate(aden_pos_B2):\n",
    "    if row['A'+str(i+1)] > PROB_THRESHOLD:\n",
    "      row['out_rna_seq'] = row['out_rna_seq'][:pos-1] + 'I' + row['out_rna_seq'][pos+1:] # Update to inosine\n",
    "  return row['out_rna_seq']"
   ]
  },
  {
   "cell_type": "code",
   "execution_count": 14,
   "metadata": {
    "executionInfo": {
     "elapsed": 1216,
     "status": "ok",
     "timestamp": 1702018509471,
     "user": {
      "displayName": "Chang M. Yun",
      "userId": "01289806167682085494"
     },
     "user_tz": 480
    },
    "id": "xL3ES8xZOvyi"
   },
   "outputs": [],
   "source": [
    "# Copy seq_fixed for out_rna_seq\n",
    "exper_rna_df['out_rna_seq'] = '5' + exper_rna_df['seq_fixed'] + '3'\n",
    "\n",
    "# Apply the function to each row\n",
    "exper_rna_df['out_rna_seq'] = exper_rna_df.apply(adenosine_to_inosine, axis=1)"
   ]
  },
  {
   "cell_type": "markdown",
   "metadata": {
    "id": "Zd4F-TTk5Wwd"
   },
   "source": [
    "### Export data"
   ]
  },
  {
   "cell_type": "code",
   "execution_count": null,
   "metadata": {
    "id": "ATaDUicw32_r"
   },
   "outputs": [],
   "source": [
    "# Select relevant columns\n",
    "processed_rna_df = exper_rna_df[['in_rna_seq','out_rna_seq']]"
   ]
  },
  {
   "cell_type": "code",
   "execution_count": null,
   "metadata": {
    "id": "zOBXgmBzLraz"
   },
   "outputs": [],
   "source": [
    "# Output final dataset as .json file\n",
    "processed_rna_json = processed_rna_df.to_json(orient='records', lines=True)\n",
    "\n",
    "with open('rna_dataset_processed.json', 'w') as f:\n",
    "    f.write(processed_rna_json)"
   ]
  }
 ],
 "metadata": {
  "colab": {
   "authorship_tag": "ABX9TyMNcsPng3y8NLWmKiaGpxCl",
   "provenance": [
    {
     "file_id": "1ncozOw1DUQte_yrRypJS2lBc64TQBgQq",
     "timestamp": 1701239576636
    }
   ]
  },
  "kernelspec": {
   "display_name": "Python 3 (ipykernel)",
   "language": "python",
   "name": "python3"
  },
  "language_info": {
   "codemirror_mode": {
    "name": "ipython",
    "version": 3
   },
   "file_extension": ".py",
   "mimetype": "text/x-python",
   "name": "python",
   "nbconvert_exporter": "python",
   "pygments_lexer": "ipython3",
   "version": "3.11.5"
  }
 },
 "nbformat": 4,
 "nbformat_minor": 1
}
